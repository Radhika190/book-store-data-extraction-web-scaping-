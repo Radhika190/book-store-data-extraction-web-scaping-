{
 "cells": [
  {
   "cell_type": "code",
   "execution_count": 1,
   "id": "43a603c3",
   "metadata": {},
   "outputs": [],
   "source": [
    "# impoting necessary libraries for web scraping\n",
    "import pandas as pd\n",
    "import numpy as np\n",
    "import requests\n",
    "from bs4 import BeautifulSoup"
   ]
  },
  {
   "cell_type": "code",
   "execution_count": 2,
   "id": "9ffd2e35",
   "metadata": {},
   "outputs": [],
   "source": [
    "# i am using custom headers to make request look like it’s coming from a real browser.\n",
    "headers={'User-Agent':'Mozilla/5.0 (Windows NT 6.3; Win 64 ; x64) Apple WeKit /537.36(KHTML , like Gecko) Chrome/80.0.3987.162 Safari/537.36'} \n",
    "# Sending a GET request to fetch the HTML content of the Books to Scrape website.\n",
    "webpage = requests.get('http://books.toscrape.com/',headers=headers).text"
   ]
  },
  {
   "cell_type": "code",
   "execution_count": 3,
   "id": "a618b25b",
   "metadata": {},
   "outputs": [],
   "source": [
    "# Using BeautifulSoup to parse the webpage content with the 'lxml' parser.\n",
    "soup = BeautifulSoup(webpage, 'lxml')"
   ]
  },
  {
   "cell_type": "code",
   "execution_count": 4,
   "id": "e2ab5629",
   "metadata": {},
   "outputs": [
    {
     "name": "stdout",
     "output_type": "stream",
     "text": [
      "['A Light in the Attic', 'Tipping the Velvet', 'Soumission', 'Sharp Objects', 'Sapiens: A Brief History of Humankind', 'The Requiem Red', 'The Dirty Little Secrets of Getting Your Dream Job', 'The Coming Woman: A Novel Based on the Life of the Infamous Feminist, Victoria Woodhull', 'The Boys in the Boat: Nine Americans and Their Epic Quest for Gold at the 1936 Berlin Olympics', 'The Black Maria', 'Starving Hearts (Triangular Trade Trilogy, #1)', \"Shakespeare's Sonnets\", 'Set Me Free', \"Scott Pilgrim's Precious Little Life (Scott Pilgrim #1)\", 'Rip it Up and Start Again', 'Our Band Could Be Your Life: Scenes from the American Indie Underground, 1981-1991', 'Olio', 'Mesaerion: The Best Science Fiction Stories 1800-1849', 'Libertarianism for Beginners', \"It's Only the Himalayas\"]\n"
     ]
    }
   ],
   "source": [
    "titles = []\n",
    "# extracted title of each book which are in 'title' tag\n",
    "for i in soup.find_all('h3'):\n",
    "    a_tag = i.find('a')\n",
    "    if a_tag and 'title' in a_tag.attrs:\n",
    "        titles.append(a_tag['title'])\n",
    "\n",
    "print(titles)\n",
    "\n",
    "\n"
   ]
  },
  {
   "cell_type": "code",
   "execution_count": 5,
   "id": "522bc65a",
   "metadata": {},
   "outputs": [
    {
     "name": "stdout",
     "output_type": "stream",
     "text": [
      "51.77\n",
      "53.74\n",
      "50.10\n",
      "47.82\n",
      "54.23\n",
      "22.65\n",
      "33.34\n",
      "17.93\n",
      "22.60\n",
      "52.15\n",
      "13.99\n",
      "20.66\n",
      "17.46\n",
      "52.29\n",
      "35.02\n",
      "57.25\n",
      "23.88\n",
      "37.59\n",
      "51.33\n",
      "45.17\n"
     ]
    }
   ],
   "source": [
    "price = []\n",
    "# extracted price\n",
    "for i in soup.find_all('p',class_='price_color'):\n",
    "    p = i.text[2:]\n",
    "    price.append(p)\n",
    "    print(p)"
   ]
  },
  {
   "cell_type": "code",
   "execution_count": 6,
   "id": "c94ad98f",
   "metadata": {},
   "outputs": [
    {
     "name": "stdout",
     "output_type": "stream",
     "text": [
      "[3, 1, 1, 4, 5, 1, 4, 3, 4, 1, 2, 4, 5, 5, 5, 3, 1, 1, 2, 2]\n"
     ]
    }
   ],
   "source": [
    "ratings = []\n",
    "for i in soup.find_all('p', class_='star-rating'):\n",
    "    class_name = i.get('class')  # Getting the class attribute as a list\n",
    "\n",
    "    # Determine the rating based on the class name('star-rating')\n",
    "    # The ratings on the page are in stars, so I converted them into numeric values, using conditional statements.\n",
    "    if \"One\" in class_name:\n",
    "        ratings.append(1)\n",
    "    elif \"Two\" in class_name:\n",
    "        ratings.append(2)\n",
    "    elif \"Three\" in class_name:\n",
    "        ratings.append(3)\n",
    "    elif \"Four\" in class_name:\n",
    "        ratings.append(4)\n",
    "    elif \"Five\" in class_name:\n",
    "        ratings.append(5)\n",
    "\n",
    "# Print all ratings\n",
    "print(ratings)"
   ]
  },
  {
   "cell_type": "code",
   "execution_count": 7,
   "id": "a5cb45a0",
   "metadata": {},
   "outputs": [],
   "source": [
    "df = pd.DataFrame({\n",
    "    \"Title\": titles,\n",
    "    \"Price\" : price,\n",
    "    \"Rating\": ratings\n",
    "})\n"
   ]
  },
  {
   "cell_type": "code",
   "execution_count": 22,
   "id": "b211d072",
   "metadata": {},
   "outputs": [],
   "source": [
    "book_store_data = pd.DataFrame()\n",
    "\n",
    "# The site has content on 50 pages.\n",
    "for n in range(1, 51):\n",
    "    # getting data from the URL \n",
    "    url = 'http://books.toscrape.com/catalogue/page-{}.html'.format(n)\n",
    "    webpage = requests.get(url).text\n",
    "    soup = BeautifulSoup(webpage, 'lxml')\n",
    "    \n",
    "    # all the information about each book is in 'product_pod' class\n",
    "    books_data = soup.find_all(class_='product_pod')\n",
    "    \n",
    "    title = []\n",
    "    price = []\n",
    "    rating = []\n",
    "    \n",
    "    # Extracting data for each book\n",
    "    for i in books_data:\n",
    "        \n",
    "            # extracting Title\n",
    "        try:\n",
    "            a_tag = i.find('h3').find('a')\n",
    "            title.append(a_tag['title'] if a_tag else np.nan)\n",
    "        except:\n",
    "            title.append(np.nan)\n",
    "        \n",
    "            # extracting price\n",
    "        try:\n",
    "            price_tag = i.find('p', class_='price_color')\n",
    "            price.append(price_tag.text[2:] if price_tag else np.nan)\n",
    "        except:\n",
    "            price.append(np.nan)\n",
    "        \n",
    "            # extracting Rating\n",
    "        try:\n",
    "            rating_tag = i.find('p', class_='star-rating')\n",
    "            class_name = rating_tag.get('class') if rating_tag else []\n",
    "            if \"One\" in class_name:\n",
    "                rating.append(1)\n",
    "            elif \"Two\" in class_name:\n",
    "                rating.append(2)\n",
    "            elif \"Three\" in class_name:\n",
    "                rating.append(3)\n",
    "            elif \"Four\" in class_name:\n",
    "                rating.append(4)\n",
    "            elif \"Five\" in class_name:\n",
    "                rating.append(5)\n",
    "            else:\n",
    "                rating.append(np.nan)\n",
    "        except:\n",
    "            rating.append(np.nan)\n",
    "    \n",
    "    # Creating DataFrame for this page\n",
    "    df = pd.DataFrame({\n",
    "        'Title': title,\n",
    "        'Price': price,\n",
    "        'Rating': rating\n",
    "    })\n",
    "    \n",
    "    # Appending to main DataFrame\n",
    "    book_store_data = pd.concat([book_store_data, df], ignore_index=True)\n"
   ]
  },
  {
   "cell_type": "code",
   "execution_count": 23,
   "id": "e0eb2646",
   "metadata": {},
   "outputs": [
    {
     "data": {
      "text/html": [
       "<div>\n",
       "<style scoped>\n",
       "    .dataframe tbody tr th:only-of-type {\n",
       "        vertical-align: middle;\n",
       "    }\n",
       "\n",
       "    .dataframe tbody tr th {\n",
       "        vertical-align: top;\n",
       "    }\n",
       "\n",
       "    .dataframe thead th {\n",
       "        text-align: right;\n",
       "    }\n",
       "</style>\n",
       "<table border=\"1\" class=\"dataframe\">\n",
       "  <thead>\n",
       "    <tr style=\"text-align: right;\">\n",
       "      <th></th>\n",
       "      <th>Title</th>\n",
       "      <th>Price</th>\n",
       "      <th>Rating</th>\n",
       "    </tr>\n",
       "  </thead>\n",
       "  <tbody>\n",
       "    <tr>\n",
       "      <th>0</th>\n",
       "      <td>A Light in the Attic</td>\n",
       "      <td>51.77</td>\n",
       "      <td>3</td>\n",
       "    </tr>\n",
       "    <tr>\n",
       "      <th>1</th>\n",
       "      <td>Tipping the Velvet</td>\n",
       "      <td>53.74</td>\n",
       "      <td>1</td>\n",
       "    </tr>\n",
       "    <tr>\n",
       "      <th>2</th>\n",
       "      <td>Soumission</td>\n",
       "      <td>50.10</td>\n",
       "      <td>1</td>\n",
       "    </tr>\n",
       "    <tr>\n",
       "      <th>3</th>\n",
       "      <td>Sharp Objects</td>\n",
       "      <td>47.82</td>\n",
       "      <td>4</td>\n",
       "    </tr>\n",
       "    <tr>\n",
       "      <th>4</th>\n",
       "      <td>Sapiens: A Brief History of Humankind</td>\n",
       "      <td>54.23</td>\n",
       "      <td>5</td>\n",
       "    </tr>\n",
       "    <tr>\n",
       "      <th>...</th>\n",
       "      <td>...</td>\n",
       "      <td>...</td>\n",
       "      <td>...</td>\n",
       "    </tr>\n",
       "    <tr>\n",
       "      <th>995</th>\n",
       "      <td>Alice in Wonderland (Alice's Adventures in Won...</td>\n",
       "      <td>55.53</td>\n",
       "      <td>1</td>\n",
       "    </tr>\n",
       "    <tr>\n",
       "      <th>996</th>\n",
       "      <td>Ajin: Demi-Human, Volume 1 (Ajin: Demi-Human #1)</td>\n",
       "      <td>57.06</td>\n",
       "      <td>4</td>\n",
       "    </tr>\n",
       "    <tr>\n",
       "      <th>997</th>\n",
       "      <td>A Spy's Devotion (The Regency Spies of London #1)</td>\n",
       "      <td>16.97</td>\n",
       "      <td>5</td>\n",
       "    </tr>\n",
       "    <tr>\n",
       "      <th>998</th>\n",
       "      <td>1st to Die (Women's Murder Club #1)</td>\n",
       "      <td>53.98</td>\n",
       "      <td>1</td>\n",
       "    </tr>\n",
       "    <tr>\n",
       "      <th>999</th>\n",
       "      <td>1,000 Places to See Before You Die</td>\n",
       "      <td>26.08</td>\n",
       "      <td>5</td>\n",
       "    </tr>\n",
       "  </tbody>\n",
       "</table>\n",
       "<p>1000 rows × 3 columns</p>\n",
       "</div>"
      ],
      "text/plain": [
       "                                                 Title  Price  Rating\n",
       "0                                 A Light in the Attic  51.77       3\n",
       "1                                   Tipping the Velvet  53.74       1\n",
       "2                                           Soumission  50.10       1\n",
       "3                                        Sharp Objects  47.82       4\n",
       "4                Sapiens: A Brief History of Humankind  54.23       5\n",
       "..                                                 ...    ...     ...\n",
       "995  Alice in Wonderland (Alice's Adventures in Won...  55.53       1\n",
       "996   Ajin: Demi-Human, Volume 1 (Ajin: Demi-Human #1)  57.06       4\n",
       "997  A Spy's Devotion (The Regency Spies of London #1)  16.97       5\n",
       "998                1st to Die (Women's Murder Club #1)  53.98       1\n",
       "999                 1,000 Places to See Before You Die  26.08       5\n",
       "\n",
       "[1000 rows x 3 columns]"
      ]
     },
     "execution_count": 23,
     "metadata": {},
     "output_type": "execute_result"
    }
   ],
   "source": [
    "# the final data\n",
    "print(book_store_data)"
   ]
  },
  {
   "cell_type": "code",
   "execution_count": 34,
   "id": "ad1e6f58",
   "metadata": {},
   "outputs": [],
   "source": [
    "# storing the extracted data in csv file\n",
    "book_store_data.to_csv('book_store_data.csv', index=False)  "
   ]
  }
 ],
 "metadata": {
  "kernelspec": {
   "display_name": "Python 3 (ipykernel)",
   "language": "python",
   "name": "python3"
  },
  "language_info": {
   "codemirror_mode": {
    "name": "ipython",
    "version": 3
   },
   "file_extension": ".py",
   "mimetype": "text/x-python",
   "name": "python",
   "nbconvert_exporter": "python",
   "pygments_lexer": "ipython3",
   "version": "3.11.5"
  }
 },
 "nbformat": 4,
 "nbformat_minor": 5
}
